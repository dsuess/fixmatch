{
 "cells": [
  {
   "cell_type": "code",
   "execution_count": null,
   "metadata": {
    "tags": [
     "parameters"
    ]
   },
   "outputs": [],
   "source": [
    "TRAIN_TFRECORD = '../data/cifar10-train.tfrecord'\n",
    "SCALING = 'linear'\n",
    "FRACTION = 5\n",
    "TOTAL_SAMPLES = 30000\n",
    "LABELED_SAMPLES = '10:20:30:40:100:250:1000:4000'\n",
    "SEED = 12345\n",
    "OUTPUT_DIR = '/home/users/daniel/tmp/'\n",
    "NAME = 'cifar10'"
   ]
  },
  {
   "cell_type": "code",
   "execution_count": null,
   "metadata": {},
   "outputs": [],
   "source": [
    "import pandas as pd\n",
    "import tensorflow as tf\n",
    "import numpy as np\n",
    "import matplotlib.pyplot as pl\n",
    "\n",
    "from tqdm import tqdm\n",
    "from itertools import count\n",
    "from pathlib import Path\n",
    "\n",
    "np.random.seed(SEED)"
   ]
  },
  {
   "cell_type": "code",
   "execution_count": null,
   "metadata": {},
   "outputs": [],
   "source": [
    "def get_class(serialized_example):\n",
    "    return tf.parse_single_example(serialized_example, features={'label': tf.FixedLenFeature([], tf.int64)})['label']\n",
    "\n",
    "dataset = tf.data.TFRecordDataset(TRAIN_TFRECORD).map(get_class)\n",
    "it = dataset.make_one_shot_iterator().get_next()\n",
    "class_ids = []\n",
    "try:\n",
    "    with tf.Session() as session:\n",
    "        for n in tqdm(count()):\n",
    "            result = session.run(it)\n",
    "            class_ids.append(result)\n",
    "except tf.errors.OutOfRangeError:\n",
    "    pass"
   ]
  },
  {
   "cell_type": "code",
   "execution_count": null,
   "metadata": {},
   "outputs": [],
   "source": [
    "df = pd.DataFrame({'class_id': class_ids})\n",
    "df.class_id.hist()"
   ]
  },
  {
   "cell_type": "code",
   "execution_count": null,
   "metadata": {},
   "outputs": [],
   "source": [
    "n_classes = df.class_id.max() + 1\n",
    "class_order = np.arange(n_classes)\n",
    "np.random.shuffle(class_order)\n",
    "\n",
    "if SCALING == 'linear':\n",
    "    num_samples = np.linspace(1, 1 / FRACTION, num=n_classes)\n",
    "else:\n",
    "    raise ValueError(f'Dont understand scaling == {linear}') \n",
    "    \n",
    "num_samples *= TOTAL_SAMPLES / np.sum(num_samples)\n",
    "num_samples = num_samples[class_order].astype(np.int64)\n",
    "num_samples\n",
    "\n",
    "print(num_samples)\n",
    "\n",
    "if any(df.groupby('class_id').size().values < num_samples):\n",
    "    raise ValueError('Cannot fullfill samples')"
   ]
  },
  {
   "cell_type": "code",
   "execution_count": null,
   "metadata": {},
   "outputs": [],
   "source": [
    "def sample(group):\n",
    "    class_id, = group.class_id.unique()\n",
    "    n = num_samples[class_id]\n",
    "    return group.sample(n=num_samples[class_id], replace=False)\n"
   ]
  },
  {
   "cell_type": "code",
   "execution_count": null,
   "metadata": {},
   "outputs": [],
   "source": [
    "dataset = tf.data.TFRecordDataset(TRAIN_TFRECORD)\n",
    "it = dataset.make_one_shot_iterator().get_next()\n",
    "data = []\n",
    "try:\n",
    "    with tf.Session() as session:\n",
    "        for n in tqdm(count()):\n",
    "            result = session.run(it)\n",
    "            data.append(result)\n",
    "except tf.errors.OutOfRangeError:\n",
    "    pass"
   ]
  },
  {
   "cell_type": "code",
   "execution_count": null,
   "metadata": {},
   "outputs": [],
   "source": [
    "output_dir = Path(OUTPUT_DIR) / 'SSL2'\n",
    "output_dir.mkdir(exist_ok=True, parents=True)\n",
    "\n",
    "def write_selection(selection, path):\n",
    "    print(f'Writing to {path}')\n",
    "    indices = selection['index'].values.copy()\n",
    "    np.random.shuffle(indices)\n",
    "\n",
    "    with tf.python_io.TFRecordWriter(str(path)) as writer:\n",
    "        for index in tqdm(indices):\n",
    "            writer.write(data[index])"
   ]
  },
  {
   "cell_type": "code",
   "execution_count": null,
   "metadata": {},
   "outputs": [],
   "source": [
    "def resample(df, size):\n",
    "    repeats = size // len(df)\n",
    "    crops = size % len(df)\n",
    "    new = pd.concat(repeats * [df] + [df.iloc[:crops]])\n",
    "    assert len(new) == size\n",
    "    return new\n",
    "\n",
    "def resample_classes(df):\n",
    "    max_count = selection.groupby('class_id').size().max()\n",
    "    return df.groupby('class_id').apply(lambda df: resample(df, max_count)).reset_index(drop=True)"
   ]
  },
  {
   "cell_type": "code",
   "execution_count": null,
   "metadata": {},
   "outputs": [],
   "source": [
    "selection = df.reset_index().groupby('class_id').apply(sample).reset_index(drop=True)\n",
    "selection.class_id.hist()\n",
    "pl.show()\n",
    "\n",
    "selection_resampled = resample_classes(selection)\n",
    "selection_resampled.class_id.hist()\n",
    "\n",
    "selection_resampled.drop_duplicates(['index'], keep='first').class_id.hist(alpha=.5)\n",
    "\n",
    "write_selection(selection_resampled, output_dir / f'{NAME}-unlabel.tfrecord')"
   ]
  },
  {
   "cell_type": "code",
   "execution_count": null,
   "metadata": {},
   "outputs": [],
   "source": [
    "for labelled_samples in LABELED_SAMPLES.split(':'):\n",
    "    n = int(labelled_samples) // n_classes\n",
    "    for seed in range(6):\n",
    "        rgen = np.random.RandomState(seed)\n",
    "        selection = df.reset_index().groupby('class_id').apply(\n",
    "            lambda d: d.sample(n=n, replace=False, random_state=rgen)).reset_index(drop=True)\n",
    "        write_selection(selection, output_dir / f'{NAME}.{seed}@{labelled_samples}-label.tfrecord')"
   ]
  },
  {
   "cell_type": "code",
   "execution_count": null,
   "metadata": {},
   "outputs": [],
   "source": []
  }
 ],
 "metadata": {
  "celltoolbar": "Tags",
  "kernelspec": {
   "display_name": "fixmatch",
   "language": "python",
   "name": "fixmatch"
  },
  "language_info": {
   "codemirror_mode": {
    "name": "ipython",
    "version": 3
   },
   "file_extension": ".py",
   "mimetype": "text/x-python",
   "name": "python",
   "nbconvert_exporter": "python",
   "pygments_lexer": "ipython3",
   "version": "3.7.6"
  }
 },
 "nbformat": 4,
 "nbformat_minor": 4
}

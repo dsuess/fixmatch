{
 "cells": [
  {
   "cell_type": "code",
   "execution_count": 1,
   "metadata": {
    "tags": [
     "parameters"
    ]
   },
   "outputs": [],
   "source": [
    "TRAIN_TFRECORD = '../data/cifar10-train.tfrecord'\n",
    "SCALING = 'linear'\n",
    "FRACTION = 5\n",
    "TOTAL_SAMPLES = 30000\n",
    "LABELED_SAMPLES = '10:20:30:40:100:250:1000:4000'\n",
    "SEED = 12345\n",
    "OUTPUT_DIR = '/home/users/daniel/tmp/'\n",
    "NAME = 'cifar10'"
   ]
  },
  {
   "cell_type": "code",
   "execution_count": 2,
   "metadata": {},
   "outputs": [],
   "source": [
    "import pandas as pd\n",
    "import tensorflow as tf\n",
    "import numpy as np\n",
    "import matplotlib.pyplot as pl\n",
    "\n",
    "from tqdm import tqdm\n",
    "from itertools import count\n",
    "from pathlib import Path"
   ]
  },
  {
   "cell_type": "code",
   "execution_count": 3,
   "metadata": {},
   "outputs": [
    {
     "name": "stdout",
     "output_type": "stream",
     "text": [
      "WARNING:tensorflow:From /mnt/scratch/daniel/fixmatch/.venv/lib/python3.7/site-packages/tensorflow_core/python/autograph/converters/directives.py:119: The name tf.parse_single_example is deprecated. Please use tf.io.parse_single_example instead.\n",
      "\n",
      "WARNING:tensorflow:From /mnt/scratch/daniel/fixmatch/.venv/lib/python3.7/site-packages/tensorflow_core/python/autograph/converters/directives.py:119: The name tf.FixedLenFeature is deprecated. Please use tf.io.FixedLenFeature instead.\n",
      "\n",
      "WARNING:tensorflow:From <ipython-input-3-c9e7483b7865>:5: DatasetV1.make_one_shot_iterator (from tensorflow.python.data.ops.dataset_ops) is deprecated and will be removed in a future version.\n",
      "Instructions for updating:\n",
      "Use `for ... in dataset:` to iterate over a dataset. If using `tf.estimator`, return the `Dataset` object directly from your input function. As a last resort, you can use `tf.compat.v1.data.make_one_shot_iterator(dataset)`.\n"
     ]
    },
    {
     "name": "stderr",
     "output_type": "stream",
     "text": [
      "50000it [00:10, 4776.39it/s]\n"
     ]
    }
   ],
   "source": [
    "def get_class(serialized_example):\n",
    "    return tf.parse_single_example(serialized_example, features={'label': tf.FixedLenFeature([], tf.int64)})['label']\n",
    "\n",
    "dataset = tf.data.TFRecordDataset(TRAIN_TFRECORD).map(get_class)\n",
    "it = dataset.make_one_shot_iterator().get_next()\n",
    "class_ids = []\n",
    "try:\n",
    "    with tf.Session() as session:\n",
    "        for n in tqdm(count()):\n",
    "            result = session.run(it)\n",
    "            class_ids.append(result)\n",
    "except tf.errors.OutOfRangeError:\n",
    "    pass"
   ]
  },
  {
   "cell_type": "code",
   "execution_count": 4,
   "metadata": {},
   "outputs": [
    {
     "data": {
      "text/plain": [
       "<matplotlib.axes._subplots.AxesSubplot at 0x7f93a87915d0>"
      ]
     },
     "execution_count": 4,
     "metadata": {},
     "output_type": "execute_result"
    },
    {
     "data": {
      "image/png": "[encoded data removed]",
      "text/plain": [
       "<Figure size 432x288 with 1 Axes>"
      ]
     },
     "metadata": {
      "needs_background": "light"
     },
     "output_type": "display_data"
    }
   ],
   "source": [
    "df = pd.DataFrame({'class_id': class_ids})\n",
    "df.class_id.hist()"
   ]
  },
  {
   "cell_type": "code",
   "execution_count": 5,
   "metadata": {},
   "outputs": [],
   "source": [
    "def select_num_samples():\n",
    "    n_classes = df.class_id.max() + 1\n",
    "    class_order = np.arange(n_classes)\n",
    "    np.random.shuffle(class_order)\n",
    "\n",
    "    if SCALING == 'linear':\n",
    "        num_samples = np.linspace(1, 1 / FRACTION, num=n_classes)\n",
    "    else:\n",
    "        raise ValueError(f'Dont understand scaling == {linear}') \n",
    "\n",
    "    num_samples *= TOTAL_SAMPLES / np.sum(num_samples)\n",
    "    num_samples = num_samples[class_order].astype(np.int64)\n",
    "    \n",
    "    if any(df.groupby('class_id').size().values < num_samples):\n",
    "        raise ValueError('Cannot fullfill samples')\n",
    "    return num_samples"
   ]
  },
  {
   "cell_type": "code",
   "execution_count": 6,
   "metadata": {},
   "outputs": [
    {
     "name": "stderr",
     "output_type": "stream",
     "text": [
      "50000it [00:08, 6239.79it/s]\n"
     ]
    }
   ],
   "source": [
    "dataset = tf.data.TFRecordDataset(TRAIN_TFRECORD)\n",
    "it = dataset.make_one_shot_iterator().get_next()\n",
    "data = []\n",
    "try:\n",
    "    with tf.Session() as session:\n",
    "        for n in tqdm(count()):\n",
    "            result = session.run(it)\n",
    "            data.append(result)\n",
    "except tf.errors.OutOfRangeError:\n",
    "    pass"
   ]
  },
  {
   "cell_type": "code",
   "execution_count": 7,
   "metadata": {},
   "outputs": [],
   "source": [
    "output_dir = Path(OUTPUT_DIR) / 'SSL2'\n",
    "output_dir.mkdir(exist_ok=True, parents=True)\n",
    "\n",
    "def write_selection(selection, path):\n",
    "    print(f'Writing to {path}')\n",
    "    indices = selection['index'].values.copy()\n",
    "    np.random.shuffle(indices)\n",
    "\n",
    "    with tf.python_io.TFRecordWriter(str(path)) as writer:\n",
    "        for index in tqdm(indices):\n",
    "            writer.write(data[index])"
   ]
  },
  {
   "cell_type": "code",
   "execution_count": 8,
   "metadata": {},
   "outputs": [],
   "source": [
    "def resample(df, size):\n",
    "    repeats = size // len(df)\n",
    "    crops = size % len(df)\n",
    "    new = pd.concat(repeats * [df] + [df.iloc[:crops]])\n",
    "    assert len(new) == size\n",
    "    return new\n",
    "\n",
    "def resample_classes(df):\n",
    "    max_count = df.groupby('class_id').size().max()\n",
    "    return df.groupby('class_id').apply(lambda df: resample(df, max_count)).reset_index(drop=True)"
   ]
  },
  {
   "cell_type": "code",
   "execution_count": 9,
   "metadata": {
    "scrolled": false
   },
   "outputs": [
    {
     "data": {
      "image/png": "[encoded data removed]",
      "text/plain": [
       "<Figure size 432x288 with 2 Axes>"
      ]
     },
     "metadata": {
      "needs_background": "light"
     },
     "output_type": "display_data"
    },
    {
     "name": "stderr",
     "output_type": "stream",
     "text": [
      " 31%|███       | 15497/50000 [00:00<00:00, 154959.06it/s]"
     ]
    },
    {
     "name": "stdout",
     "output_type": "stream",
     "text": [
      "Writing to /home/users/daniel/tmp/SSL2/cifar10.0-unlabel.tfrecord\n"
     ]
    },
    {
     "name": "stderr",
     "output_type": "stream",
     "text": [
      "100%|██████████| 50000/50000 [00:00<00:00, 153587.33it/s]\n",
      "100%|██████████| 10/10 [00:00<00:00, 26647.42it/s]\n",
      "100%|██████████| 20/20 [00:00<00:00, 41964.02it/s]\n",
      "100%|██████████| 30/30 [00:00<00:00, 55382.54it/s]\n",
      "100%|██████████| 40/40 [00:00<00:00, 65844.65it/s]\n",
      "100%|██████████| 100/100 [00:00<00:00, 98898.94it/s]\n",
      "100%|██████████| 250/250 [00:00<00:00, 114348.53it/s]\n",
      "100%|██████████| 1000/1000 [00:00<00:00, 133038.47it/s]\n",
      "100%|██████████| 4000/4000 [00:00<00:00, 136093.64it/s]\n"
     ]
    },
    {
     "name": "stdout",
     "output_type": "stream",
     "text": [
      "Writing to /home/users/daniel/tmp/SSL2/cifar10.0@10-label.tfrecord\n",
      "Writing to /home/users/daniel/tmp/SSL2/cifar10.0@20-label.tfrecord\n",
      "Writing to /home/users/daniel/tmp/SSL2/cifar10.0@30-label.tfrecord\n",
      "Writing to /home/users/daniel/tmp/SSL2/cifar10.0@40-label.tfrecord\n",
      "Writing to /home/users/daniel/tmp/SSL2/cifar10.0@100-label.tfrecord\n",
      "Writing to /home/users/daniel/tmp/SSL2/cifar10.0@250-label.tfrecord\n",
      "Writing to /home/users/daniel/tmp/SSL2/cifar10.0@1000-label.tfrecord\n",
      "Writing to /home/users/daniel/tmp/SSL2/cifar10.0@4000-label.tfrecord\n"
     ]
    },
    {
     "data": {
      "image/png": "[encoded data removed]",
      "text/plain": [
       "<Figure size 432x288 with 2 Axes>"
      ]
     },
     "metadata": {
      "needs_background": "light"
     },
     "output_type": "display_data"
    },
    {
     "name": "stderr",
     "output_type": "stream",
     "text": [
      " 32%|███▏      | 16239/50000 [00:00<00:00, 162380.48it/s]"
     ]
    },
    {
     "name": "stdout",
     "output_type": "stream",
     "text": [
      "Writing to /home/users/daniel/tmp/SSL2/cifar10.1-unlabel.tfrecord\n"
     ]
    },
    {
     "name": "stderr",
     "output_type": "stream",
     "text": [
      "100%|██████████| 50000/50000 [00:00<00:00, 156201.15it/s]\n",
      "100%|██████████| 10/10 [00:00<00:00, 15169.27it/s]\n",
      "100%|██████████| 20/20 [00:00<00:00, 29382.16it/s]\n",
      "100%|██████████| 30/30 [00:00<00:00, 34596.95it/s]\n",
      "100%|██████████| 40/40 [00:00<00:00, 42875.58it/s]\n",
      "100%|██████████| 100/100 [00:00<00:00, 62027.57it/s]\n",
      "100%|██████████| 250/250 [00:00<00:00, 80734.22it/s]\n",
      "100%|██████████| 1000/1000 [00:00<00:00, 126110.35it/s]\n",
      "100%|██████████| 4000/4000 [00:00<00:00, 135181.30it/s]\n"
     ]
    },
    {
     "name": "stdout",
     "output_type": "stream",
     "text": [
      "Writing to /home/users/daniel/tmp/SSL2/cifar10.1@10-label.tfrecord\n",
      "Writing to /home/users/daniel/tmp/SSL2/cifar10.1@20-label.tfrecord\n",
      "Writing to /home/users/daniel/tmp/SSL2/cifar10.1@30-label.tfrecord\n",
      "Writing to /home/users/daniel/tmp/SSL2/cifar10.1@40-label.tfrecord\n",
      "Writing to /home/users/daniel/tmp/SSL2/cifar10.1@100-label.tfrecord\n",
      "Writing to /home/users/daniel/tmp/SSL2/cifar10.1@250-label.tfrecord\n",
      "Writing to /home/users/daniel/tmp/SSL2/cifar10.1@1000-label.tfrecord\n",
      "Writing to /home/users/daniel/tmp/SSL2/cifar10.1@4000-label.tfrecord\n"
     ]
    },
    {
     "data": {
      "image/png": "[encoded data removed]",
      "text/plain": [
       "<Figure size 432x288 with 2 Axes>"
      ]
     },
     "metadata": {
      "needs_background": "light"
     },
     "output_type": "display_data"
    },
    {
     "name": "stderr",
     "output_type": "stream",
     "text": [
      " 31%|███       | 15434/50000 [00:00<00:00, 154339.78it/s]"
     ]
    },
    {
     "name": "stdout",
     "output_type": "stream",
     "text": [
      "Writing to /home/users/daniel/tmp/SSL2/cifar10.2-unlabel.tfrecord\n"
     ]
    },
    {
     "name": "stderr",
     "output_type": "stream",
     "text": [
      "100%|██████████| 50000/50000 [00:00<00:00, 142526.98it/s]\n",
      "100%|██████████| 10/10 [00:00<00:00, 25528.33it/s]\n",
      "100%|██████████| 20/20 [00:00<00:00, 26869.34it/s]\n",
      "100%|██████████| 30/30 [00:00<00:00, 36921.69it/s]\n",
      "100%|██████████| 40/40 [00:00<00:00, 42398.83it/s]\n",
      "100%|██████████| 100/100 [00:00<00:00, 76804.69it/s]\n",
      "100%|██████████| 250/250 [00:00<00:00, 105437.51it/s]\n",
      "100%|██████████| 1000/1000 [00:00<00:00, 140137.12it/s]\n",
      "100%|██████████| 4000/4000 [00:00<00:00, 150912.24it/s]\n"
     ]
    },
    {
     "name": "stdout",
     "output_type": "stream",
     "text": [
      "Writing to /home/users/daniel/tmp/SSL2/cifar10.2@10-label.tfrecord\n",
      "Writing to /home/users/daniel/tmp/SSL2/cifar10.2@20-label.tfrecord\n",
      "Writing to /home/users/daniel/tmp/SSL2/cifar10.2@30-label.tfrecord\n",
      "Writing to /home/users/daniel/tmp/SSL2/cifar10.2@40-label.tfrecord\n",
      "Writing to /home/users/daniel/tmp/SSL2/cifar10.2@100-label.tfrecord\n",
      "Writing to /home/users/daniel/tmp/SSL2/cifar10.2@250-label.tfrecord\n",
      "Writing to /home/users/daniel/tmp/SSL2/cifar10.2@1000-label.tfrecord\n",
      "Writing to /home/users/daniel/tmp/SSL2/cifar10.2@4000-label.tfrecord\n"
     ]
    },
    {
     "data": {
      "image/png": "[encoded data removed]",
      "text/plain": [
       "<Figure size 432x288 with 2 Axes>"
      ]
     },
     "metadata": {
      "needs_background": "light"
     },
     "output_type": "display_data"
    },
    {
     "name": "stderr",
     "output_type": "stream",
     "text": [
      " 31%|███       | 15325/50000 [00:00<00:00, 153239.55it/s]"
     ]
    },
    {
     "name": "stdout",
     "output_type": "stream",
     "text": [
      "Writing to /home/users/daniel/tmp/SSL2/cifar10.3-unlabel.tfrecord\n"
     ]
    },
    {
     "name": "stderr",
     "output_type": "stream",
     "text": [
      "100%|██████████| 50000/50000 [00:00<00:00, 144171.61it/s]\n",
      "100%|██████████| 10/10 [00:00<00:00, 13893.02it/s]\n",
      "100%|██████████| 20/20 [00:00<00:00, 26462.49it/s]\n",
      "100%|██████████| 30/30 [00:00<00:00, 36398.36it/s]\n",
      "100%|██████████| 40/40 [00:00<00:00, 34302.22it/s]\n",
      "100%|██████████| 100/100 [00:00<00:00, 75860.08it/s]\n",
      "100%|██████████| 250/250 [00:00<00:00, 110925.21it/s]\n",
      "100%|██████████| 1000/1000 [00:00<00:00, 136827.30it/s]\n",
      "100%|██████████| 4000/4000 [00:00<00:00, 149480.26it/s]\n"
     ]
    },
    {
     "name": "stdout",
     "output_type": "stream",
     "text": [
      "Writing to /home/users/daniel/tmp/SSL2/cifar10.3@10-label.tfrecord\n",
      "Writing to /home/users/daniel/tmp/SSL2/cifar10.3@20-label.tfrecord\n",
      "Writing to /home/users/daniel/tmp/SSL2/cifar10.3@30-label.tfrecord\n",
      "Writing to /home/users/daniel/tmp/SSL2/cifar10.3@40-label.tfrecord\n",
      "Writing to /home/users/daniel/tmp/SSL2/cifar10.3@100-label.tfrecord\n",
      "Writing to /home/users/daniel/tmp/SSL2/cifar10.3@250-label.tfrecord\n",
      "Writing to /home/users/daniel/tmp/SSL2/cifar10.3@1000-label.tfrecord\n",
      "Writing to /home/users/daniel/tmp/SSL2/cifar10.3@4000-label.tfrecord\n"
     ]
    },
    {
     "data": {
      "image/png": "[encoded data removed]",
      "text/plain": [
       "<Figure size 432x288 with 2 Axes>"
      ]
     },
     "metadata": {
      "needs_background": "light"
     },
     "output_type": "display_data"
    },
    {
     "name": "stderr",
     "output_type": "stream",
     "text": [
      " 25%|██▌       | 12577/50000 [00:00<00:00, 125767.72it/s]"
     ]
    },
    {
     "name": "stdout",
     "output_type": "stream",
     "text": [
      "Writing to /home/users/daniel/tmp/SSL2/cifar10.4-unlabel.tfrecord\n"
     ]
    },
    {
     "name": "stderr",
     "output_type": "stream",
     "text": [
      "100%|██████████| 50000/50000 [00:00<00:00, 128384.59it/s]\n",
      "100%|██████████| 10/10 [00:00<00:00, 20661.60it/s]\n",
      "100%|██████████| 20/20 [00:00<00:00, 21670.39it/s]\n",
      "100%|██████████| 30/30 [00:00<00:00, 31559.85it/s]\n",
      "100%|██████████| 40/40 [00:00<00:00, 44337.25it/s]\n",
      "100%|██████████| 100/100 [00:00<00:00, 77371.41it/s]\n",
      "100%|██████████| 250/250 [00:00<00:00, 120636.91it/s]\n",
      "100%|██████████| 1000/1000 [00:00<00:00, 136796.06it/s]\n",
      "100%|██████████| 4000/4000 [00:00<00:00, 149910.34it/s]\n"
     ]
    },
    {
     "name": "stdout",
     "output_type": "stream",
     "text": [
      "Writing to /home/users/daniel/tmp/SSL2/cifar10.4@10-label.tfrecord\n",
      "Writing to /home/users/daniel/tmp/SSL2/cifar10.4@20-label.tfrecord\n",
      "Writing to /home/users/daniel/tmp/SSL2/cifar10.4@30-label.tfrecord\n",
      "Writing to /home/users/daniel/tmp/SSL2/cifar10.4@40-label.tfrecord\n",
      "Writing to /home/users/daniel/tmp/SSL2/cifar10.4@100-label.tfrecord\n",
      "Writing to /home/users/daniel/tmp/SSL2/cifar10.4@250-label.tfrecord\n",
      "Writing to /home/users/daniel/tmp/SSL2/cifar10.4@1000-label.tfrecord\n",
      "Writing to /home/users/daniel/tmp/SSL2/cifar10.4@4000-label.tfrecord\n"
     ]
    },
    {
     "data": {
      "image/png": "[encoded data removed]",
      "text/plain": [
       "<Figure size 432x288 with 2 Axes>"
      ]
     },
     "metadata": {
      "needs_background": "light"
     },
     "output_type": "display_data"
    },
    {
     "name": "stderr",
     "output_type": "stream",
     "text": [
      " 33%|███▎      | 16353/50000 [00:00<00:00, 163527.82it/s]"
     ]
    },
    {
     "name": "stdout",
     "output_type": "stream",
     "text": [
      "Writing to /home/users/daniel/tmp/SSL2/cifar10.5-unlabel.tfrecord\n"
     ]
    },
    {
     "name": "stderr",
     "output_type": "stream",
     "text": [
      "100%|██████████| 50000/50000 [00:00<00:00, 159885.95it/s]\n",
      "100%|██████████| 10/10 [00:00<00:00, 15425.91it/s]\n",
      "100%|██████████| 20/20 [00:00<00:00, 26681.32it/s]\n",
      "100%|██████████| 30/30 [00:00<00:00, 35736.76it/s]\n",
      "100%|██████████| 40/40 [00:00<00:00, 44882.87it/s]\n",
      "100%|██████████| 100/100 [00:00<00:00, 79167.69it/s]\n",
      "100%|██████████| 250/250 [00:00<00:00, 109821.53it/s]\n",
      "100%|██████████| 1000/1000 [00:00<00:00, 137333.55it/s]\n",
      "100%|██████████| 4000/4000 [00:00<00:00, 156988.61it/s]"
     ]
    },
    {
     "name": "stdout",
     "output_type": "stream",
     "text": [
      "Writing to /home/users/daniel/tmp/SSL2/cifar10.5@10-label.tfrecord\n",
      "Writing to /home/users/daniel/tmp/SSL2/cifar10.5@20-label.tfrecord\n",
      "Writing to /home/users/daniel/tmp/SSL2/cifar10.5@30-label.tfrecord\n",
      "Writing to /home/users/daniel/tmp/SSL2/cifar10.5@40-label.tfrecord\n",
      "Writing to /home/users/daniel/tmp/SSL2/cifar10.5@100-label.tfrecord\n",
      "Writing to /home/users/daniel/tmp/SSL2/cifar10.5@250-label.tfrecord\n",
      "Writing to /home/users/daniel/tmp/SSL2/cifar10.5@1000-label.tfrecord\n",
      "Writing to /home/users/daniel/tmp/SSL2/cifar10.5@4000-label.tfrecord\n"
     ]
    },
    {
     "name": "stderr",
     "output_type": "stream",
     "text": [
      "\n"
     ]
    }
   ],
   "source": [
    "def write_dataset(seed):\n",
    "    np.random.seed(seed)\n",
    "    num_samples = select_num_samples()\n",
    "    \n",
    "    def sample(group):\n",
    "        class_id, = group.class_id.unique()\n",
    "        n = num_samples[class_id]\n",
    "        return group.sample(n=num_samples[class_id], replace=False)\n",
    "    \n",
    "    # Unlabelled dataset pool\n",
    "    pl.subplot(121)\n",
    "    selection = df.reset_index().groupby('class_id').apply(sample).reset_index(drop=True)\n",
    "    selection.class_id.hist()\n",
    "    pl.title(f'{seed}')\n",
    "\n",
    "    pl.subplot(122)\n",
    "    selection_resampled = resample_classes(selection)\n",
    "    selection_resampled.class_id.hist()\n",
    "    selection_resampled.drop_duplicates(['index'], keep='first').class_id.hist(alpha=.5)\n",
    "    pl.show()\n",
    "\n",
    "    write_selection(selection_resampled, output_dir / f'{NAME}.{seed}-unlabel.tfrecord')\n",
    "        \n",
    "    # Labelled examples\n",
    "    rgen = np.random.RandomState(seed)\n",
    "    n_classes = df.class_id.max() + 1\n",
    " \n",
    "    for labelled_samples in LABELED_SAMPLES.split(':'):\n",
    "        n = int(labelled_samples) // n_classes\n",
    "        selection = df.reset_index().groupby('class_id').apply(\n",
    "            lambda d: d.sample(n=n, replace=False, random_state=rgen)).reset_index(drop=True)\n",
    "        write_selection(selection, output_dir / f'{NAME}.{seed}@{labelled_samples}-label.tfrecord')\n",
    "        \n",
    "for seed in range(6):\n",
    "    write_dataset(seed)"
   ]
  },
  {
   "cell_type": "code",
   "execution_count": null,
   "metadata": {},
   "outputs": [],
   "source": []
  }
 ],
 "metadata": {
  "celltoolbar": "Tags",
  "kernelspec": {
   "display_name": "fixmatch",
   "language": "python",
   "name": "fixmatch"
  },
  "language_info": {
   "codemirror_mode": {
    "name": "ipython",
    "version": 3
   },
   "file_extension": ".py",
   "mimetype": "text/x-python",
   "name": "python",
   "nbconvert_exporter": "python",
   "pygments_lexer": "ipython3",
   "version": "3.7.6"
  }
 },
 "nbformat": 4,
 "nbformat_minor": 4
}

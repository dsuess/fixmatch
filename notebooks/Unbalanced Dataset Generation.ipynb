{
 "cells": [
  {
   "cell_type": "code",
   "execution_count": 1,
   "metadata": {
    "tags": [
     "parameters"
    ]
   },
   "outputs": [],
   "source": [
    "TRAIN_TFRECORD = '../data/cifar10-train.tfrecord'\n",
    "SCALING = 'linear'\n",
    "FRACTION = 5\n",
    "TOTAL_SAMPLES = 30000\n",
    "LABELED_SAMPLES = '10:20:30:40:100:250:1000:4000'\n",
    "SEED = 12345\n",
    "OUTPUT_DIR = '../data/cifar10-30000-linear-5'\n",
    "NAME = 'cifar10'"
   ]
  },
  {
   "cell_type": "code",
   "execution_count": 2,
   "metadata": {},
   "outputs": [],
   "source": [
    "import pandas as pd\n",
    "import tensorflow as tf\n",
    "import numpy as np\n",
    "import matplotlib.pyplot as pl\n",
    "\n",
    "from tqdm import tqdm\n",
    "from itertools import count\n",
    "from pathlib import Path\n",
    "\n",
    "np.random.seed(SEED)"
   ]
  },
  {
   "cell_type": "code",
   "execution_count": 3,
   "metadata": {},
   "outputs": [
    {
     "name": "stdout",
     "output_type": "stream",
     "text": [
      "WARNING:tensorflow:From /mnt/scratch/daniel/fixmatch/.venv/lib/python3.7/site-packages/tensorflow_core/python/autograph/converters/directives.py:119: The name tf.parse_single_example is deprecated. Please use tf.io.parse_single_example instead.\n",
      "\n",
      "WARNING:tensorflow:From /mnt/scratch/daniel/fixmatch/.venv/lib/python3.7/site-packages/tensorflow_core/python/autograph/converters/directives.py:119: The name tf.FixedLenFeature is deprecated. Please use tf.io.FixedLenFeature instead.\n",
      "\n",
      "WARNING:tensorflow:From <ipython-input-3-c9e7483b7865>:5: DatasetV1.make_one_shot_iterator (from tensorflow.python.data.ops.dataset_ops) is deprecated and will be removed in a future version.\n",
      "Instructions for updating:\n",
      "Use `for ... in dataset:` to iterate over a dataset. If using `tf.estimator`, return the `Dataset` object directly from your input function. As a last resort, you can use `tf.compat.v1.data.make_one_shot_iterator(dataset)`.\n"
     ]
    },
    {
     "name": "stderr",
     "output_type": "stream",
     "text": [
      "50000it [00:10, 4709.35it/s]\n"
     ]
    }
   ],
   "source": [
    "def get_class(serialized_example):\n",
    "    return tf.parse_single_example(serialized_example, features={'label': tf.FixedLenFeature([], tf.int64)})['label']\n",
    "\n",
    "dataset = tf.data.TFRecordDataset(TRAIN_TFRECORD).map(get_class)\n",
    "it = dataset.make_one_shot_iterator().get_next()\n",
    "class_ids = []\n",
    "try:\n",
    "    with tf.Session() as session:\n",
    "        for n in tqdm(count()):\n",
    "            result = session.run(it)\n",
    "            class_ids.append(result)\n",
    "except tf.errors.OutOfRangeError:\n",
    "    pass"
   ]
  },
  {
   "cell_type": "code",
   "execution_count": 4,
   "metadata": {},
   "outputs": [
    {
     "data": {
      "text/plain": [
       "<matplotlib.axes._subplots.AxesSubplot at 0x7f6bcc5190d0>"
      ]
     },
     "execution_count": 4,
     "metadata": {},
     "output_type": "execute_result"
    },
    {
     "data": {
      "image/png": "[encoded data removed]",
      "text/plain": [
       "<Figure size 432x288 with 1 Axes>"
      ]
     },
     "metadata": {
      "needs_background": "light"
     },
     "output_type": "display_data"
    }
   ],
   "source": [
    "df = pd.DataFrame({'class_id': class_ids})\n",
    "df.class_id.hist()"
   ]
  },
  {
   "cell_type": "code",
   "execution_count": 5,
   "metadata": {},
   "outputs": [
    {
     "name": "stdout",
     "output_type": "stream",
     "text": [
      "[5000 1888 3666 1000 2333 3222 4555 1444 2777 4111]\n"
     ]
    }
   ],
   "source": [
    "n_classes = df.class_id.max() + 1\n",
    "class_order = np.arange(n_classes)\n",
    "np.random.shuffle(class_order)\n",
    "\n",
    "if SCALING == 'linear':\n",
    "    num_samples = np.linspace(1, 1 / FRACTION, num=n_classes)\n",
    "else:\n",
    "    raise ValueError(f'Dont understand scaling == {linear}') \n",
    "    \n",
    "num_samples *= TOTAL_SAMPLES / np.sum(num_samples)\n",
    "num_samples = num_samples[class_order].astype(np.int64)\n",
    "num_samples\n",
    "\n",
    "print(num_samples)\n",
    "\n",
    "if any(df.groupby('class_id').size().values < num_samples):\n",
    "    raise ValueError('Cannot fullfill samples')"
   ]
  },
  {
   "cell_type": "code",
   "execution_count": 6,
   "metadata": {},
   "outputs": [
    {
     "data": {
      "text/plain": [
       "<matplotlib.axes._subplots.AxesSubplot at 0x7f6bcc4ea310>"
      ]
     },
     "execution_count": 6,
     "metadata": {},
     "output_type": "execute_result"
    },
    {
     "data": {
      "image/png": "[encoded data removed]",
      "text/plain": [
       "<Figure size 432x288 with 1 Axes>"
      ]
     },
     "metadata": {
      "needs_background": "light"
     },
     "output_type": "display_data"
    }
   ],
   "source": [
    "def sample(group):\n",
    "    class_id, = group.class_id.unique()\n",
    "    n = num_samples[class_id]\n",
    "    return group.sample(n=num_samples[class_id], replace=False)\n",
    "    \n",
    "selection = df.reset_index().groupby('class_id').apply(sample).reset_index(drop=True)\n",
    "selection.class_id.hist()"
   ]
  },
  {
   "cell_type": "code",
   "execution_count": 7,
   "metadata": {},
   "outputs": [
    {
     "name": "stderr",
     "output_type": "stream",
     "text": [
      "50000it [00:08, 6158.12it/s]\n"
     ]
    }
   ],
   "source": [
    "dataset = tf.data.TFRecordDataset(TRAIN_TFRECORD)\n",
    "it = dataset.make_one_shot_iterator().get_next()\n",
    "data = []\n",
    "try:\n",
    "    with tf.Session() as session:\n",
    "        for n in tqdm(count()):\n",
    "            result = session.run(it)\n",
    "            data.append(result)\n",
    "except tf.errors.OutOfRangeError:\n",
    "    pass"
   ]
  },
  {
   "cell_type": "code",
   "execution_count": 8,
   "metadata": {},
   "outputs": [
    {
     "name": "stderr",
     "output_type": "stream",
     "text": [
      "100%|██████████| 29996/29996 [00:00<00:00, 127090.75it/s]\n"
     ]
    }
   ],
   "source": [
    "output_dir = Path(OUTPUT_DIR) / 'SSL2'\n",
    "output_dir.mkdir(exist_ok=True, parents=True)\n",
    "\n",
    "def write_selection(selection, path):\n",
    "    indices = selection.index.values.copy()\n",
    "    np.random.shuffle(indices)\n",
    "\n",
    "    with tf.python_io.TFRecordWriter(str(path)) as writer:\n",
    "        for index in tqdm(indices):\n",
    "            writer.write(data[index])\n",
    "        \n",
    "write_selection(selection, output_dir / f'{NAME}-unlabel.tfrecord')"
   ]
  },
  {
   "cell_type": "code",
   "execution_count": 9,
   "metadata": {},
   "outputs": [
    {
     "name": "stderr",
     "output_type": "stream",
     "text": [
      "100%|██████████| 10/10 [00:00<00:00, 10760.14it/s]\n",
      "100%|██████████| 10/10 [00:00<00:00, 13543.12it/s]\n",
      "100%|██████████| 10/10 [00:00<00:00, 10815.64it/s]\n",
      "100%|██████████| 10/10 [00:00<00:00, 18616.53it/s]\n",
      "100%|██████████| 20/20 [00:00<00:00, 33866.00it/s]\n",
      "100%|██████████| 20/20 [00:00<00:00, 31655.12it/s]\n",
      "100%|██████████| 20/20 [00:00<00:00, 33447.40it/s]\n",
      "100%|██████████| 20/20 [00:00<00:00, 35424.86it/s]\n",
      "100%|██████████| 30/30 [00:00<00:00, 44494.03it/s]\n",
      "100%|██████████| 30/30 [00:00<00:00, 47953.17it/s]\n",
      "100%|██████████| 30/30 [00:00<00:00, 47286.40it/s]\n",
      "100%|██████████| 30/30 [00:00<00:00, 45573.75it/s]\n",
      "100%|██████████| 40/40 [00:00<00:00, 56092.33it/s]\n",
      "100%|██████████| 40/40 [00:00<00:00, 62183.90it/s]\n",
      "100%|██████████| 40/40 [00:00<00:00, 56660.64it/s]\n",
      "100%|██████████| 40/40 [00:00<00:00, 58254.22it/s]\n",
      "100%|██████████| 100/100 [00:00<00:00, 93916.35it/s]\n",
      "100%|██████████| 100/100 [00:00<00:00, 90825.12it/s]\n",
      "100%|██████████| 100/100 [00:00<00:00, 95760.37it/s]\n",
      "100%|██████████| 100/100 [00:00<00:00, 93518.48it/s]\n",
      "100%|██████████| 250/250 [00:00<00:00, 116793.94it/s]\n",
      "100%|██████████| 250/250 [00:00<00:00, 114723.85it/s]\n",
      "100%|██████████| 250/250 [00:00<00:00, 114836.93it/s]\n",
      "100%|██████████| 250/250 [00:00<00:00, 112399.61it/s]\n",
      "100%|██████████| 1000/1000 [00:00<00:00, 65250.53it/s]\n",
      "100%|██████████| 1000/1000 [00:00<00:00, 122422.11it/s]\n",
      "100%|██████████| 1000/1000 [00:00<00:00, 119803.03it/s]\n",
      "100%|██████████| 1000/1000 [00:00<00:00, 120974.42it/s]\n",
      "100%|██████████| 4000/4000 [00:00<00:00, 125681.44it/s]\n",
      "100%|██████████| 4000/4000 [00:00<00:00, 125064.04it/s]\n",
      "100%|██████████| 4000/4000 [00:00<00:00, 124970.88it/s]\n",
      "100%|██████████| 4000/4000 [00:00<00:00, 137327.93it/s]\n"
     ]
    }
   ],
   "source": [
    "for labelled_samples in LABELED_SAMPLES.split(':'):\n",
    "    n = int(labelled_samples) // n_classes\n",
    "    for seed in range(6):\n",
    "        rgen = np.random.RandomState(seed)\n",
    "        selection = df.reset_index().groupby('class_id').apply(\n",
    "            lambda d: d.sample(n=n, replace=False, random_state=rgen)).reset_index(drop=True)\n",
    "        write_selection(selection, output_dir / f'{NAME}.{seed}@{labelled_samples}-label.tfrecord')"
   ]
  }
 ],
 "metadata": {
  "celltoolbar": "Tags",
  "kernelspec": {
   "display_name": "fixmatch",
   "language": "python",
   "name": "fixmatch"
  },
  "language_info": {
   "codemirror_mode": {
    "name": "ipython",
    "version": 3
   },
   "file_extension": ".py",
   "mimetype": "text/x-python",
   "name": "python",
   "nbconvert_exporter": "python",
   "pygments_lexer": "ipython3",
   "version": "3.7.6"
  }
 },
 "nbformat": 4,
 "nbformat_minor": 4
}

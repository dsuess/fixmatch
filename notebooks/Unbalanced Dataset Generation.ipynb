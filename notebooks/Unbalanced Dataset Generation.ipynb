{
 "cells": [
  {
   "cell_type": "code",
   "execution_count": 10,
   "metadata": {
    "tags": [
     "parameters"
    ]
   },
   "outputs": [],
   "source": [
    "TRAIN_TFRECORD = '../data/cifar10-train.tfrecord'\n",
    "SCALING = 'linear'\n",
    "FRACTION = 10\n",
    "TOTAL_SAMPLES = 25000\n",
    "LABELED_SAMPLES = '100:250:1000:4000'\n",
    "RESAMPLE_UNLABELED = False\n",
    "RESAMPLE_LABELED = True\n",
    "SEED = 12345\n",
    "OUTPUT_DIR = '/home/users/daniel/tmp/'\n",
    "NAME = 'cifar10'"
   ]
  },
  {
   "cell_type": "code",
   "execution_count": 11,
   "metadata": {},
   "outputs": [],
   "source": [
    "import pandas as pd\n",
    "import tensorflow as tf\n",
    "import numpy as np\n",
    "import matplotlib.pyplot as pl\n",
    "\n",
    "from tqdm import tqdm\n",
    "from itertools import count\n",
    "from pathlib import Path"
   ]
  },
  {
   "cell_type": "code",
   "execution_count": 12,
   "metadata": {},
   "outputs": [
    {
     "name": "stderr",
     "output_type": "stream",
     "text": [
      "50000it [00:11, 4263.24it/s]\n"
     ]
    }
   ],
   "source": [
    "def get_class(serialized_example):\n",
    "    return tf.parse_single_example(serialized_example, features={'label': tf.FixedLenFeature([], tf.int64)})['label']\n",
    "\n",
    "dataset = tf.data.TFRecordDataset(TRAIN_TFRECORD).map(get_class)\n",
    "it = dataset.make_one_shot_iterator().get_next()\n",
    "class_ids = []\n",
    "try:\n",
    "    with tf.Session() as session:\n",
    "        for n in tqdm(count()):\n",
    "            result = session.run(it)\n",
    "            class_ids.append(result)\n",
    "except tf.errors.OutOfRangeError:\n",
    "    pass"
   ]
  },
  {
   "cell_type": "code",
   "execution_count": 13,
   "metadata": {},
   "outputs": [
    {
     "data": {
      "text/plain": [
       "<matplotlib.axes._subplots.AxesSubplot at 0x7fa38f240dd0>"
      ]
     },
     "execution_count": 13,
     "metadata": {},
     "output_type": "execute_result"
    },
    {
     "data": {
      "image/png": "[encoded data removed]",
      "text/plain": [
       "<Figure size 432x288 with 1 Axes>"
      ]
     },
     "metadata": {
      "needs_background": "light"
     },
     "output_type": "display_data"
    }
   ],
   "source": [
    "df = pd.DataFrame({'class_id': class_ids})\n",
    "df.class_id.hist()"
   ]
  },
  {
   "cell_type": "code",
   "execution_count": 14,
   "metadata": {},
   "outputs": [],
   "source": [
    "def select_num_samples():\n",
    "    n_classes = df.class_id.max() + 1\n",
    "    class_order = np.arange(n_classes)\n",
    "    np.random.shuffle(class_order)\n",
    "\n",
    "    if SCALING == 'linear':\n",
    "        num_samples = np.linspace(1, 1 / FRACTION, num=n_classes)\n",
    "    else:\n",
    "        raise ValueError(f'Dont understand scaling == {linear}') \n",
    "\n",
    "    num_samples *= TOTAL_SAMPLES / np.sum(num_samples)\n",
    "    num_samples = num_samples[class_order].astype(np.int64)\n",
    "    \n",
    "    if any(df.groupby('class_id').size().values < num_samples):\n",
    "        raise ValueError('Cannot fullfill samples')\n",
    "    return num_samples"
   ]
  },
  {
   "cell_type": "code",
   "execution_count": 15,
   "metadata": {},
   "outputs": [
    {
     "name": "stderr",
     "output_type": "stream",
     "text": [
      "50000it [00:08, 6102.01it/s]\n"
     ]
    }
   ],
   "source": [
    "dataset = tf.data.TFRecordDataset(TRAIN_TFRECORD)\n",
    "it = dataset.make_one_shot_iterator().get_next()\n",
    "data = []\n",
    "try:\n",
    "    with tf.Session() as session:\n",
    "        for n in tqdm(count()):\n",
    "            result = session.run(it)\n",
    "            data.append(result)\n",
    "except tf.errors.OutOfRangeError:\n",
    "    pass"
   ]
  },
  {
   "cell_type": "code",
   "execution_count": 16,
   "metadata": {},
   "outputs": [],
   "source": [
    "output_dir = Path(OUTPUT_DIR) / 'SSL2'\n",
    "output_dir.mkdir(exist_ok=True, parents=True)\n",
    "\n",
    "def write_selection(selection, path):\n",
    "    print(f'Writing to {path}')\n",
    "    indices = selection['index'].values.copy()\n",
    "    np.random.shuffle(indices)\n",
    "\n",
    "    with tf.python_io.TFRecordWriter(str(path)) as writer:\n",
    "        for index in tqdm(indices):\n",
    "            writer.write(data[index])"
   ]
  },
  {
   "cell_type": "code",
   "execution_count": 17,
   "metadata": {},
   "outputs": [],
   "source": [
    "def resample(df, size):\n",
    "    repeats = size // len(df)\n",
    "    crops = size % len(df)\n",
    "    new = pd.concat(repeats * [df] + [df.iloc[:crops]])\n",
    "    assert len(new) == size\n",
    "    return new\n",
    "\n",
    "def resample_classes(df):\n",
    "    max_count = df.groupby('class_id').size().max()\n",
    "    return df.groupby('class_id').apply(lambda df: resample(df, max_count)).reset_index(drop=True)"
   ]
  },
  {
   "cell_type": "code",
   "execution_count": 18,
   "metadata": {
    "scrolled": false
   },
   "outputs": [
    {
     "data": {
      "image/png": "[encoded data removed]",
      "text/plain": [
       "<Figure size 432x288 with 2 Axes>"
      ]
     },
     "metadata": {
      "needs_background": "light"
     },
     "output_type": "display_data"
    },
    {
     "name": "stderr",
     "output_type": "stream",
     "text": [
      "100%|██████████| 24995/24995 [00:00<00:00, 156405.58it/s]\n",
      "100%|██████████| 100/100 [00:00<00:00, 77801.97it/s]\n",
      "  0%|          | 0/250 [00:00<?, ?it/s]"
     ]
    },
    {
     "name": "stdout",
     "output_type": "stream",
     "text": [
      "Writing to /home/users/daniel/tmp/SSL2/cifar10.0-unlabel.tfrecord\n",
      "Writing to /home/users/daniel/tmp/SSL2/cifar10.0@100-label.tfrecord\n",
      "Writing to /home/users/daniel/tmp/SSL2/cifar10.0@250-label.tfrecord\n"
     ]
    },
    {
     "name": "stderr",
     "output_type": "stream",
     "text": [
      "100%|██████████| 250/250 [00:00<00:00, 82578.04it/s]\n",
      "100%|██████████| 1000/1000 [00:00<00:00, 138944.05it/s]\n",
      "100%|██████████| 4000/4000 [00:00<00:00, 152692.27it/s]\n"
     ]
    },
    {
     "name": "stdout",
     "output_type": "stream",
     "text": [
      "Writing to /home/users/daniel/tmp/SSL2/cifar10.0@1000-label.tfrecord\n",
      "Writing to /home/users/daniel/tmp/SSL2/cifar10.0@4000-label.tfrecord\n"
     ]
    },
    {
     "data": {
      "image/png": "[encoded data removed]",
      "text/plain": [
       "<Figure size 432x288 with 2 Axes>"
      ]
     },
     "metadata": {
      "needs_background": "light"
     },
     "output_type": "display_data"
    },
    {
     "name": "stderr",
     "output_type": "stream",
     "text": [
      "100%|██████████| 24995/24995 [00:00<00:00, 151216.78it/s]"
     ]
    },
    {
     "name": "stdout",
     "output_type": "stream",
     "text": [
      "Writing to /home/users/daniel/tmp/SSL2/cifar10.1-unlabel.tfrecord\n"
     ]
    },
    {
     "name": "stderr",
     "output_type": "stream",
     "text": [
      "\n",
      "100%|██████████| 100/100 [00:00<00:00, 70480.66it/s]\n",
      "100%|██████████| 250/250 [00:00<00:00, 109192.54it/s]\n",
      "100%|██████████| 1000/1000 [00:00<00:00, 137907.02it/s]\n",
      "100%|██████████| 4000/4000 [00:00<00:00, 153990.05it/s]\n"
     ]
    },
    {
     "name": "stdout",
     "output_type": "stream",
     "text": [
      "Writing to /home/users/daniel/tmp/SSL2/cifar10.1@100-label.tfrecord\n",
      "Writing to /home/users/daniel/tmp/SSL2/cifar10.1@250-label.tfrecord\n",
      "Writing to /home/users/daniel/tmp/SSL2/cifar10.1@1000-label.tfrecord\n",
      "Writing to /home/users/daniel/tmp/SSL2/cifar10.1@4000-label.tfrecord\n"
     ]
    },
    {
     "data": {
      "image/png": "[encoded data removed]",
      "text/plain": [
       "<Figure size 432x288 with 2 Axes>"
      ]
     },
     "metadata": {
      "needs_background": "light"
     },
     "output_type": "display_data"
    },
    {
     "name": "stderr",
     "output_type": "stream",
     "text": [
      "100%|██████████| 24995/24995 [00:00<00:00, 157472.65it/s]"
     ]
    },
    {
     "name": "stdout",
     "output_type": "stream",
     "text": [
      "Writing to /home/users/daniel/tmp/SSL2/cifar10.2-unlabel.tfrecord\n"
     ]
    },
    {
     "name": "stderr",
     "output_type": "stream",
     "text": [
      "\n",
      "100%|██████████| 100/100 [00:00<00:00, 74671.60it/s]\n",
      "100%|██████████| 250/250 [00:00<00:00, 108100.62it/s]\n",
      "100%|██████████| 1000/1000 [00:00<00:00, 132020.90it/s]\n",
      "100%|██████████| 4000/4000 [00:00<00:00, 149260.83it/s]\n"
     ]
    },
    {
     "name": "stdout",
     "output_type": "stream",
     "text": [
      "Writing to /home/users/daniel/tmp/SSL2/cifar10.2@100-label.tfrecord\n",
      "Writing to /home/users/daniel/tmp/SSL2/cifar10.2@250-label.tfrecord\n",
      "Writing to /home/users/daniel/tmp/SSL2/cifar10.2@1000-label.tfrecord\n",
      "Writing to /home/users/daniel/tmp/SSL2/cifar10.2@4000-label.tfrecord\n"
     ]
    },
    {
     "data": {
      "image/png": "[encoded data removed]",
      "text/plain": [
       "<Figure size 432x288 with 2 Axes>"
      ]
     },
     "metadata": {
      "needs_background": "light"
     },
     "output_type": "display_data"
    },
    {
     "name": "stderr",
     "output_type": "stream",
     "text": [
      "100%|██████████| 24995/24995 [00:00<00:00, 144528.49it/s]"
     ]
    },
    {
     "name": "stdout",
     "output_type": "stream",
     "text": [
      "Writing to /home/users/daniel/tmp/SSL2/cifar10.3-unlabel.tfrecord\n"
     ]
    },
    {
     "name": "stderr",
     "output_type": "stream",
     "text": [
      "\n",
      "100%|██████████| 100/100 [00:00<00:00, 59249.95it/s]\n",
      "100%|██████████| 250/250 [00:00<00:00, 96509.53it/s]\n",
      "100%|██████████| 1000/1000 [00:00<00:00, 126106.55it/s]\n",
      "  0%|          | 0/4000 [00:00<?, ?it/s]"
     ]
    },
    {
     "name": "stdout",
     "output_type": "stream",
     "text": [
      "Writing to /home/users/daniel/tmp/SSL2/cifar10.3@100-label.tfrecord\n",
      "Writing to /home/users/daniel/tmp/SSL2/cifar10.3@250-label.tfrecord\n",
      "Writing to /home/users/daniel/tmp/SSL2/cifar10.3@1000-label.tfrecord\n",
      "Writing to /home/users/daniel/tmp/SSL2/cifar10.3@4000-label.tfrecord\n"
     ]
    },
    {
     "name": "stderr",
     "output_type": "stream",
     "text": [
      "100%|██████████| 4000/4000 [00:00<00:00, 138322.02it/s]\n"
     ]
    },
    {
     "data": {
      "image/png": "[encoded data removed]",
      "text/plain": [
       "<Figure size 432x288 with 2 Axes>"
      ]
     },
     "metadata": {
      "needs_background": "light"
     },
     "output_type": "display_data"
    },
    {
     "name": "stderr",
     "output_type": "stream",
     "text": [
      "100%|██████████| 24995/24995 [00:00<00:00, 154608.05it/s]"
     ]
    },
    {
     "name": "stdout",
     "output_type": "stream",
     "text": [
      "Writing to /home/users/daniel/tmp/SSL2/cifar10.4-unlabel.tfrecord\n"
     ]
    },
    {
     "name": "stderr",
     "output_type": "stream",
     "text": [
      "\n",
      "100%|██████████| 100/100 [00:00<00:00, 65342.02it/s]\n",
      "100%|██████████| 250/250 [00:00<00:00, 98884.95it/s]\n",
      "100%|██████████| 1000/1000 [00:00<00:00, 132070.79it/s]\n",
      "100%|██████████| 4000/4000 [00:00<00:00, 147335.28it/s]\n"
     ]
    },
    {
     "name": "stdout",
     "output_type": "stream",
     "text": [
      "Writing to /home/users/daniel/tmp/SSL2/cifar10.4@100-label.tfrecord\n",
      "Writing to /home/users/daniel/tmp/SSL2/cifar10.4@250-label.tfrecord\n",
      "Writing to /home/users/daniel/tmp/SSL2/cifar10.4@1000-label.tfrecord\n",
      "Writing to /home/users/daniel/tmp/SSL2/cifar10.4@4000-label.tfrecord\n"
     ]
    },
    {
     "data": {
      "image/png": "[encoded data removed]",
      "text/plain": [
       "<Figure size 432x288 with 2 Axes>"
      ]
     },
     "metadata": {
      "needs_background": "light"
     },
     "output_type": "display_data"
    },
    {
     "name": "stderr",
     "output_type": "stream",
     "text": [
      "100%|██████████| 24995/24995 [00:00<00:00, 162687.74it/s]\n",
      "100%|██████████| 100/100 [00:00<00:00, 76846.90it/s]"
     ]
    },
    {
     "name": "stdout",
     "output_type": "stream",
     "text": [
      "Writing to /home/users/daniel/tmp/SSL2/cifar10.5-unlabel.tfrecord\n",
      "Writing to /home/users/daniel/tmp/SSL2/cifar10.5@100-label.tfrecord\n"
     ]
    },
    {
     "name": "stderr",
     "output_type": "stream",
     "text": [
      "\n",
      "100%|██████████| 250/250 [00:00<00:00, 92975.35it/s]\n",
      "100%|██████████| 1000/1000 [00:00<00:00, 123605.46it/s]\n",
      "100%|██████████| 4000/4000 [00:00<00:00, 142050.99it/s]"
     ]
    },
    {
     "name": "stdout",
     "output_type": "stream",
     "text": [
      "Writing to /home/users/daniel/tmp/SSL2/cifar10.5@250-label.tfrecord\n",
      "Writing to /home/users/daniel/tmp/SSL2/cifar10.5@1000-label.tfrecord\n",
      "Writing to /home/users/daniel/tmp/SSL2/cifar10.5@4000-label.tfrecord\n"
     ]
    },
    {
     "name": "stderr",
     "output_type": "stream",
     "text": [
      "\n"
     ]
    }
   ],
   "source": [
    "def write_dataset(seed):\n",
    "    np.random.seed(seed)\n",
    "    num_samples = select_num_samples()\n",
    "    \n",
    "    def sample(group):\n",
    "        class_id, = group.class_id.unique()\n",
    "        n = num_samples[class_id]\n",
    "        return group.sample(n=num_samples[class_id], replace=False)\n",
    "    \n",
    "    # Unlabelled dataset pool\n",
    "    pl.subplot(121)\n",
    "    selection = df.reset_index().groupby('class_id').apply(sample).reset_index(drop=True)\n",
    "    selection.class_id.hist()\n",
    "    pl.title(f'{seed}')\n",
    "\n",
    "    pl.subplot(122)\n",
    "    if RESAMPLE_UNLABELED:\n",
    "        selection_resampled = resample_classes(selection)\n",
    "    else:\n",
    "        selection_resampled = selection\n",
    "    selection_resampled.class_id.hist()\n",
    "    selection_resampled.drop_duplicates(['index'], keep='first').class_id.hist(alpha=.5)\n",
    "    pl.show()\n",
    "\n",
    "    write_selection(selection_resampled, output_dir / f'{NAME}.{seed}-unlabel.tfrecord')\n",
    "        \n",
    "    # Labelled examples\n",
    "    rgen = np.random.RandomState(seed)\n",
    "    n_classes = df.class_id.max() + 1\n",
    " \n",
    "    for labelled_samples in LABELED_SAMPLES.split(':'):\n",
    "        if RESAMPLE_LABELED:\n",
    "            n = int(labelled_samples) // n_classes\n",
    "            labelled_selection = selection.reset_index().groupby('class_id').apply(\n",
    "                lambda d: d.sample(n=n, replace=False, random_state=rgen)).reset_index(drop=True)\n",
    "        else:\n",
    "            while True:\n",
    "                labelled_selection = selection.sample(n=int(labelled_samples), replace=False, random_state=rgen).reset_index()\n",
    "                if len(labelled_selection.class_id.unique()) == len(df.class_id.unique()):\n",
    "                    break\n",
    "                \n",
    "        write_selection(labelled_selection, output_dir / f'{NAME}.{seed}@{labelled_samples}-label.tfrecord')\n",
    "        \n",
    "for seed in range(6):\n",
    "    write_dataset(seed)"
   ]
  },
  {
   "cell_type": "code",
   "execution_count": null,
   "metadata": {},
   "outputs": [],
   "source": []
  }
 ],
 "metadata": {
  "celltoolbar": "Tags",
  "kernelspec": {
   "display_name": "fixmatch",
   "language": "python",
   "name": "fixmatch"
  },
  "language_info": {
   "codemirror_mode": {
    "name": "ipython",
    "version": 3
   },
   "file_extension": ".py",
   "mimetype": "text/x-python",
   "name": "python",
   "nbconvert_exporter": "python",
   "pygments_lexer": "ipython3",
   "version": "3.7.6"
  }
 },
 "nbformat": 4,
 "nbformat_minor": 4
}
